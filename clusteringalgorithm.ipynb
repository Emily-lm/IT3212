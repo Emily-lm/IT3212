{
 "cells": [
  {
   "cell_type": "code",
   "execution_count": null,
   "metadata": {},
   "outputs": [],
   "source": [
    "import numpy as np\n",
    "import pandas as pd\n",
    "import matplotlib.pyplot as plt\n",
    "\n",
    "# Import kmeans and dbscan\n",
    "from sklearn.cluster import KMeans, DBSCAN"
   ]
  },
  {
   "cell_type": "code",
   "execution_count": null,
   "metadata": {},
   "outputs": [],
   "source": [
    "train_x = pd.read_csv('train/X_train_cluster.csv')\n",
    "train_y = pd.read_csv('train/y_train_cluster.csv')\n",
    "test_x = pd.read_csv('test/X_test_cluster.csv')\n",
    "test_y = pd.read_csv('test/y_test_cluster.csv')\n",
    "\n",
    "OG_data = pd.read_csv(\"smoking.csv\")\n"
   ]
  },
  {
   "cell_type": "code",
   "execution_count": null,
   "metadata": {},
   "outputs": [],
   "source": [
    "OG_data_y = OG_data['SMK_stat_type_cd']\n",
    "OG_data_x = OG_data.drop(columns=['SMK_stat_type_cd'])\n",
    "\n",
    "# Keep only numerical columns in OG_data_x\n",
    "OG_data_x = OG_data_x.select_dtypes(include=['number'])\n",
    "\n",
    "OG_data_x"
   ]
  },
  {
   "cell_type": "code",
   "execution_count": null,
   "metadata": {},
   "outputs": [],
   "source": [
    "train_x.describe()"
   ]
  },
  {
   "cell_type": "code",
   "execution_count": null,
   "metadata": {},
   "outputs": [],
   "source": [
    "train_x.apply(lambda col: (col > 0.0000022964).sum())"
   ]
  },
  {
   "cell_type": "code",
   "execution_count": null,
   "metadata": {},
   "outputs": [],
   "source": [
    "# Remove all rows where the first three columns are bigger than 0.1\n",
    "train_x_and_y = pd.concat([train_x, train_y], axis=1)\n",
    "#train_x_remove_outlier = train_x_and_y[(train_x_and_y['PC1'] <= 0.1) & (train_x_and_y['PC2'] <= 0.1) & (train_x_and_y['PC3'] <= 0.1)]\n",
    "#train_x_remove_outlier = train_x_and_y[(train_x_and_y['PC1'] <= 0.000049172) & (train_x_and_y['PC2'] <= 0.000003) & (train_x_and_y['PC3'] <= 0.0000000008)]\n",
    "train_x_remove_outlier = train_x_and_y[(train_x_and_y['PC1'] <= 0.1) & (train_x_and_y['PC2'] <= 0.0000022965) & (train_x_and_y['PC3'] <= 0.1)] # best for now\n",
    "#train_x_remove_outlier = train_x_and_y[(train_x_and_y['PC1'] <= 0.0000491717) & (train_x_and_y['PC2'] <= 0.0000022964) & (train_x_and_y['PC3'] <= 0.00000000065)]\n",
    "\n",
    "train_y_remove_outlier = train_x_remove_outlier['SMK_stat_type_cd']\n",
    "train_x_remove_outlier = train_x_remove_outlier.drop(['SMK_stat_type_cd'], axis=1)"
   ]
  },
  {
   "cell_type": "code",
   "execution_count": null,
   "metadata": {},
   "outputs": [],
   "source": [
    "train_x.shape"
   ]
  },
  {
   "cell_type": "code",
   "execution_count": null,
   "metadata": {},
   "outputs": [],
   "source": [
    "train_x_remove_outlier.shape"
   ]
  },
  {
   "cell_type": "code",
   "execution_count": null,
   "metadata": {},
   "outputs": [],
   "source": [
    "# Scale the data between 0 and 1\n",
    "from sklearn.preprocessing import MinMaxScaler\n",
    "scaler = MinMaxScaler()\n",
    "\n",
    "\n",
    "# Scale the data and convert back to DataFrame\n",
    "train_x_scaled = pd.DataFrame(scaler.fit_transform(train_x_remove_outlier), \n",
    "                              columns=train_x_remove_outlier.columns, \n",
    "                              index=train_x_remove_outlier.index)\n",
    "\n",
    "test_x_scaled = pd.DataFrame(scaler.transform(test_x), \n",
    "                             columns=test_x.columns, \n",
    "                             index=test_x.index)\n",
    "train_x_full = train_x_scaled\n",
    "train_y_full = train_y_remove_outlier\n",
    "train_x_scaled = train_x_scaled[-100000:]\n",
    "train_y_remove_outlier = train_y_remove_outlier[-100000:]"
   ]
  },
  {
   "cell_type": "code",
   "execution_count": null,
   "metadata": {},
   "outputs": [],
   "source": [
    "train_x.describe()"
   ]
  },
  {
   "cell_type": "code",
   "execution_count": null,
   "metadata": {},
   "outputs": [],
   "source": [
    "train_x_full.describe()"
   ]
  },
  {
   "cell_type": "code",
   "execution_count": null,
   "metadata": {},
   "outputs": [],
   "source": [
    "train_x_scaled.describe()"
   ]
  },
  {
   "cell_type": "code",
   "execution_count": null,
   "metadata": {},
   "outputs": [],
   "source": [
    "# Hisogram of each column\n",
    "train_x_scaled.hist(figsize=(10, 10), bins=5000)\n",
    "plt.tight_layout()\n",
    "plt.show()"
   ]
  },
  {
   "cell_type": "code",
   "execution_count": null,
   "metadata": {},
   "outputs": [],
   "source": [
    "test_x.shape"
   ]
  },
  {
   "cell_type": "code",
   "execution_count": null,
   "metadata": {},
   "outputs": [],
   "source": [
    "# Count the number of rows where the first three columns are bigger than 0.1\n",
    "train_x_scaled.apply(lambda col: (col > 0.5).sum())"
   ]
  },
  {
   "cell_type": "code",
   "execution_count": null,
   "metadata": {},
   "outputs": [],
   "source": [
    "# KMeans\n",
    "kmeans = KMeans(n_clusters=3, random_state=42)\n",
    "kmeans.fit(train_x)\n",
    "y_pred_train = kmeans.predict(train_x)\n",
    "y_pred_test = kmeans.predict(test_x)\n",
    "\n",
    "# with scaled data\n",
    "kmeans.fit(train_x_full)\n",
    "y_pred_train_scaled_kmeans = kmeans.predict(train_x_full)\n",
    "\n",
    "# On untouched data\n",
    "y_pred_train_og_kmean = kmeans.fit_predict(OG_data_x)"
   ]
  },
  {
   "cell_type": "code",
   "execution_count": null,
   "metadata": {},
   "outputs": [],
   "source": [
    "# Gaussian Mixture Model\n",
    "from sklearn.mixture import GaussianMixture\n",
    "gmm = GaussianMixture(n_components=3)\n",
    "y_pred_train_gmm = gmm.fit_predict(train_x_full)"
   ]
  },
  {
   "cell_type": "code",
   "execution_count": null,
   "metadata": {},
   "outputs": [],
   "source": [
    "# Fuzzy C-means\n",
    "from fcmeans import FCM\n",
    "fcm = FCM(n_clusters=3)\n",
    "fcm.fit(train_x_full.values)\n",
    "y_pred_train_fcm = fcm.predict(train_x_full.values)\n"
   ]
  },
  {
   "cell_type": "code",
   "execution_count": null,
   "metadata": {},
   "outputs": [],
   "source": [
    "# Evaluate the clustering results\n",
    "from sklearn.metrics import adjusted_rand_score\n",
    "\n",
    "rand_score = adjusted_rand_score(train_y.values.ravel(), y_pred_train)\n",
    "print(\"Adjusted Rand Score:\", rand_score)\n",
    "\n",
    "rand_score = adjusted_rand_score(test_y.values.ravel(), y_pred_test)\n",
    "print(\"Adjusted Rand Score:\", rand_score)"
   ]
  },
  {
   "cell_type": "code",
   "execution_count": null,
   "metadata": {},
   "outputs": [],
   "source": [
    "# Kmeans\n",
    "rand_score = adjusted_rand_score(train_y_full.values.ravel(), y_pred_train_scaled_kmeans)\n",
    "print(\"K-means Adjusted Rand Score:\", rand_score)"
   ]
  },
  {
   "cell_type": "code",
   "execution_count": null,
   "metadata": {},
   "outputs": [],
   "source": [
    "# Gaussian Mixture Model evaluation\n",
    "rand_score = adjusted_rand_score(train_y_full.values.ravel(), y_pred_train_gmm)\n",
    "print(\"Gaussian Mixture Model Adjusted Rand Score:\", rand_score)\n"
   ]
  },
  {
   "cell_type": "code",
   "execution_count": null,
   "metadata": {},
   "outputs": [],
   "source": [
    "# Fuzzy C-means evaluation\n",
    "rand_score = adjusted_rand_score(train_y_full.values.ravel(), y_pred_train_fcm)\n",
    "print(\"Fuzzy C-means Adjusted Rand Score:\", rand_score)"
   ]
  },
  {
   "cell_type": "code",
   "execution_count": null,
   "metadata": {},
   "outputs": [],
   "source": [
    "rand_score_og = adjusted_rand_score(OG_data_y.values.ravel(), y_pred_train_og_kmean)\n",
    "print(\"Adjusted Rand Score:\", rand_score_og)"
   ]
  },
  {
   "cell_type": "code",
   "execution_count": null,
   "metadata": {},
   "outputs": [],
   "source": [
    "unique_values, counts = np.unique(y_pred_train_scaled_kmeans, return_counts=True)\n",
    "value_counts = dict(zip(unique_values, counts))\n",
    "print(value_counts)"
   ]
  },
  {
   "cell_type": "code",
   "execution_count": null,
   "metadata": {},
   "outputs": [],
   "source": []
  }
 ],
 "metadata": {
  "kernelspec": {
   "display_name": ".venv",
   "language": "python",
   "name": "python3"
  },
  "language_info": {
   "codemirror_mode": {
    "name": "ipython",
    "version": 3
   },
   "file_extension": ".py",
   "mimetype": "text/x-python",
   "name": "python",
   "nbconvert_exporter": "python",
   "pygments_lexer": "ipython3",
   "version": "3.11.10"
  }
 },
 "nbformat": 4,
 "nbformat_minor": 2
}
