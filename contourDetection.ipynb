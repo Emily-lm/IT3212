{
 "cells": [
  {
   "cell_type": "code",
   "execution_count": 1,
   "metadata": {},
   "outputs": [],
   "source": [
    "import torch\n",
    "from torchvision import datasets, transforms\n",
    "from torch.utils.data import DataLoader\n",
    "import matplotlib.pyplot as plt\n",
    "import math\n",
    "import cv2\n",
    "import numpy as np"
   ]
  },
  {
   "cell_type": "code",
   "execution_count": null,
   "metadata": {},
   "outputs": [],
   "source": [
    "import cv2\n",
    "import os\n",
    "\n",
    "# Specify the folder containing images (relative path)\n",
    "folder_path = './vehicle-dataset/motorcycle/'  # Assuming the folder is named 'images' and is in the root of the project\n",
    "\n",
    "# Create a list to store loaded images\n",
    "images = []\n",
    "\n",
    "# Iterate through all files in the folder\n",
    "for filename in os.listdir(folder_path):\n",
    "    # Construct the full file path\n",
    "    img_path = os.path.join(folder_path, filename)\n",
    "\n",
    "    # Read the image using OpenCV\n",
    "    img = cv2.imread(img_path)\n",
    "\n",
    "    # Check if the image was successfully loaded\n",
    "    if img is not None:\n",
    "        images.append(img)\n",
    "    else:\n",
    "        print(f\"Failed to load {img_path}\")\n",
    "\n",
    "print(f\"Loaded {len(images)} images from {folder_path}\")"
   ]
  },
  {
   "cell_type": "code",
   "execution_count": null,
   "metadata": {},
   "outputs": [],
   "source": [
    "min_contour_area = 100\n",
    "for i in range(len(images)):\n",
    "    grayscale_image = cv2.cvtColor(images[i], cv2.COLOR_BGR2GRAY) # Keep batch dimension\n",
    "\n",
    "    # Apply binary threshold\n",
    "    ret, thresh = cv2.threshold(grayscale_image, 110, 255, cv2.THRESH_BINARY)  # Scale to [0, 255]\n",
    "\n",
    "    # Visualize the binary image\n",
    "    #cv2.imshow('Binary image', thresh)\n",
    "    #cv2.waitKey(0)  # Wait for a key press\n",
    "\n",
    "    # Save the thresholded image\n",
    "    cv2.imwrite(f'./motorcycle-binary/image_thres_{i}.jpg', thresh)\n",
    "    contours, hierarchy = cv2.findContours(image=thresh, mode=cv2.RETR_TREE, method=cv2.CHAIN_APPROX_NONE)\n",
    "    contour_stats = []                                   \n",
    "    # draw contours on the original image\n",
    "    image_copy = images[i].copy()\n",
    "    #print(f\"Image shape for drawing contours: {image_copy.shape}, dtype: {image_copy.dtype}\")  # Debugging line\n",
    "    for contour in contours:\n",
    "        area = cv2.contourArea(contour)\n",
    "        perimeter = cv2.arcLength(contour, closed=True)\n",
    "        if area >= min_contour_area:\n",
    "            contour_stats.append({\n",
    "                \"Contour ID\": len(contour_stats) + 1,\n",
    "                \"Area\": area,\n",
    "                \"Perimeter\": perimeter\n",
    "            })\n",
    "        # Generate a random color for the current contour\n",
    "            color = tuple(np.random.randint(0, 256, size=3).tolist())\n",
    "            \n",
    "            # Draw the current contour with the random color\n",
    "            cv2.drawContours(image=image_copy, contours=[contour], contourIdx=-1, color=color, thickness=2, lineType=cv2.LINE_AA)\n",
    "    # see the results\n",
    "    #cv2.imshow('None approximation', image_copy)\n",
    "    #cv2.waitKey(0)\n",
    "    if i==117:\n",
    "        print(f\"Image {i + 1}:\")\n",
    "        print(f\"Total number of contours detected: {len(contours)}\")\n",
    "        print(f\"Contours with area >= {min_contour_area}: {len(contour_stats)}\")\n",
    "        for stat in contour_stats:\n",
    "            print(f\"Contour {stat['Contour ID']}: Area = {stat['Area']:.2f}, Perimeter = {stat['Perimeter']:.2f}\")\n",
    "        print(\"-\" * 40)\n",
    "    cv2.imwrite(f'./motorcycle-contour/contours_none_image_{i}.jpg', image_copy)"
   ]
  }
 ],
 "metadata": {
  "kernelspec": {
   "display_name": "tdt4173",
   "language": "python",
   "name": "python3"
  },
  "language_info": {
   "codemirror_mode": {
    "name": "ipython",
    "version": 3
   },
   "file_extension": ".py",
   "mimetype": "text/x-python",
   "name": "python",
   "nbconvert_exporter": "python",
   "pygments_lexer": "ipython3",
   "version": "3.8.18"
  }
 },
 "nbformat": 4,
 "nbformat_minor": 2
}
