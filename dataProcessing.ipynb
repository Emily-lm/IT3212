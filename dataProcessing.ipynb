{
 "cells": [
  {
   "cell_type": "markdown",
   "metadata": {},
   "source": [
    "# Pipeline"
   ]
  },
  {
   "cell_type": "markdown",
   "metadata": {},
   "source": [
    "**Loading of datasets**"
   ]
  },
  {
   "cell_type": "code",
   "execution_count": 1,
   "metadata": {},
   "outputs": [],
   "source": [
    "import pandas as pd\n",
    "import matplotlib.pyplot as plt\n",
    "from scipy.stats import zscore, iqr\n",
    "from sklearn.model_selection import train_test_split\n",
    "import numpy as np\n",
    "import missingno as msno \n",
    "pd.set_option('display.max_rows', None)\n",
    "pd.set_option('display.max_columns', None)\n",
    "data_weather = pd.read_csv(\"spanish-cities-energy-consumption/weather_features.csv\")\n",
    "data_generation = pd.read_csv(\"spanish-cities-energy-consumption/energy_dataset.csv\")\n"
   ]
  },
  {
   "cell_type": "markdown",
   "metadata": {},
   "source": [
    "**Data Exploration**"
   ]
  },
  {
   "cell_type": "code",
   "execution_count": null,
   "metadata": {},
   "outputs": [],
   "source": [
    "data_weather.head()"
   ]
  },
  {
   "cell_type": "code",
   "execution_count": null,
   "metadata": {},
   "outputs": [],
   "source": [
    "data_generation.head()"
   ]
  },
  {
   "cell_type": "code",
   "execution_count": null,
   "metadata": {},
   "outputs": [],
   "source": [
    "data_weather.describe()"
   ]
  },
  {
   "cell_type": "code",
   "execution_count": null,
   "metadata": {},
   "outputs": [],
   "source": [
    "data_generation.describe()\n"
   ]
  },
  {
   "cell_type": "code",
   "execution_count": 6,
   "metadata": {},
   "outputs": [],
   "source": [
    "data_generation.drop(columns=[\"generation fossil coal-derived gas\", \"generation fossil oil shale\",\"generation fossil peat\", \"generation geothermal\", \"generation marine\", \"generation wind offshore\" ], inplace=True)"
   ]
  },
  {
   "cell_type": "code",
   "execution_count": null,
   "metadata": {},
   "outputs": [],
   "source": [
    "for col, dtype in data_weather.dtypes.items():\n",
    "    print(f\"Column '{col}' has data type: {dtype}\")"
   ]
  },
  {
   "cell_type": "code",
   "execution_count": null,
   "metadata": {},
   "outputs": [],
   "source": [
    "for col, dtype in data_generation.dtypes.items():\n",
    "    print(f\"Column '{col}' has data type: {dtype}\")"
   ]
  },
  {
   "cell_type": "code",
   "execution_count": null,
   "metadata": {},
   "outputs": [],
   "source": [
    "print(data_weather.isnull().values.any())"
   ]
  },
  {
   "cell_type": "code",
   "execution_count": null,
   "metadata": {},
   "outputs": [],
   "source": [
    "print(data_generation.isnull().values.any())"
   ]
  },
  {
   "cell_type": "code",
   "execution_count": 11,
   "metadata": {},
   "outputs": [],
   "source": [
    "#Divide the numerical features from the categorical features\n",
    "weather_num = data_weather.select_dtypes(include='number')\n",
    "weather_cat = data_weather.select_dtypes(exclude='number').drop('dt_iso', axis=1)\n",
    "generation_num = data_generation.select_dtypes(include='number')"
   ]
  },
  {
   "cell_type": "code",
   "execution_count": null,
   "metadata": {},
   "outputs": [],
   "source": [
    "#see the unique values of categorical features to check for outliers\n",
    "unique_values_all = {col: weather_cat[col].unique() for col in weather_cat.columns}\n",
    "\n",
    "print(unique_values_all)\n"
   ]
  },
  {
   "cell_type": "markdown",
   "metadata": {},
   "source": [
    "**Missing Values**"
   ]
  },
  {
   "cell_type": "code",
   "execution_count": null,
   "metadata": {},
   "outputs": [],
   "source": [
    "missing_values_sum = data_generation.isnull().sum()\n",
    "missing_values_sum"
   ]
  },
  {
   "cell_type": "code",
   "execution_count": null,
   "metadata": {},
   "outputs": [],
   "source": [
    "\n",
    "generation_num.drop(columns=[\"generation hydro pumped storage aggregated\", \"forecast wind offshore eday ahead\"], inplace=True)\n",
    "\n",
    "columns_to_median_impute = [\n",
    "    'total load actual',\n",
    "    'generation biomass', \n",
    "    'generation fossil brown coal/lignite', \n",
    "    'generation fossil gas', \n",
    "    'generation fossil hard coal', \n",
    "    'generation fossil oil',  \n",
    "    'generation hydro pumped storage consumption', \n",
    "    'generation hydro run-of-river and poundage', \n",
    "    'generation hydro water reservoir', \n",
    "    'generation nuclear', \n",
    "    'generation other', \n",
    "    'generation other renewable', \n",
    "    'generation solar', \n",
    "    'generation waste', \n",
    "    'generation wind onshore'\n",
    "]\n",
    "\n",
    "generation_num[columns_to_median_impute] = generation_num[columns_to_median_impute].fillna(generation_num.median(numeric_only=True))\n",
    "\n",
    "print(generation_num.isna().sum())\n",
    "\n",
    "print(\"Number of missing values now is:\", pd.isnull(generation_num).sum().sum())"
   ]
  },
  {
   "cell_type": "markdown",
   "metadata": {},
   "source": [
    "**Outliers**"
   ]
  },
  {
   "cell_type": "code",
   "execution_count": 15,
   "metadata": {},
   "outputs": [],
   "source": [
    "def Zscore(data):\n",
    "# Calculate Z-scores for each data point\n",
    "    z_scores = zscore(data)\n",
    "    # Define a threshold for identifying outliers\n",
    "    threshold = 3\n",
    "    # Identify outliers\n",
    "    outliers = (z_scores > threshold) | (z_scores < -threshold)\n",
    "    return outliers, z_scores\n",
    "\n",
    "weather_outliers, weather_zscores = Zscore(weather_num)\n",
    "generation_outliers, generation_zscore = Zscore(generation_num)"
   ]
  },
  {
   "cell_type": "code",
   "execution_count": 16,
   "metadata": {},
   "outputs": [],
   "source": [
    "def visualZscore(z_scores, outliers, threshold=3):\n",
    "    for col in z_scores.columns:\n",
    "        # Plot Histogram of Z-scores\n",
    "        plt.figure(figsize=(12, 5))\n",
    "\n",
    "        # Histogram plot\n",
    "        plt.subplot(1, 2, 1)\n",
    "        plt.hist(z_scores[col], bins=100, edgecolor='k', alpha=0.7)\n",
    "        plt.axvline(threshold, color='r', linestyle='dashed', linewidth=1.5, label=f'Outlier Threshold (+{threshold})')\n",
    "        plt.axvline(-threshold, color='r', linestyle='dashed', linewidth=1.5, label=f'Outlier Threshold (-{threshold})')\n",
    "        plt.title(f'Histogram of Z-scores {col}')\n",
    "        plt.xlabel('Z-score')\n",
    "        plt.ylabel('Frequency')\n",
    "        plt.yscale('log')\n",
    "        plt.legend()\n",
    "\n",
    "        # Scatter Plot with Z-scores\n",
    "        plt.subplot(1, 2, 2)\n",
    "        plt.scatter(range(len(z_scores[col])), z_scores[col], c=['red' if outlier else 'blue' for outlier in outliers[col]], alpha=0.7)\n",
    "        plt.axhline(threshold, color='r', linestyle='dashed', linewidth=1.5)\n",
    "        plt.axhline(-threshold, color='r', linestyle='dashed', linewidth=1.5)\n",
    "        plt.title(f'Scatter Plot of Z-scores {col}')\n",
    "        plt.xlabel('Index')\n",
    "        plt.ylabel('Z-score')\n",
    "        plt.grid(True)\n",
    "\n",
    "        # Highlight outliers\n",
    "        for i, (score, is_outlier) in enumerate(zip(z_scores[col], outliers)):\n",
    "            if is_outlier:\n",
    "                plt.text(i, score, f'{score:.2f}', fontsize=9, color='red', ha='left', va='bottom')\n",
    "\n",
    "        plt.tight_layout()\n",
    "        plt.show()"
   ]
  },
  {
   "cell_type": "code",
   "execution_count": 17,
   "metadata": {},
   "outputs": [],
   "source": [
    "\n",
    "\n",
    "def IQR(df):\n",
    "    summary = df.describe()\n",
    "    Q1 = summary.loc['25%']\n",
    "    Q3 = summary.loc['75%']\n",
    "    IQR = Q3 - Q1\n",
    "\n",
    "    lower_bounds = Q1 - 1.5 * IQR\n",
    "    upper_bounds = Q3 + 1.5 * IQR\n",
    "    outliers_dict = {}\n",
    "    \n",
    "    for feature in df.columns:\n",
    "        lower_bound = lower_bounds[feature]\n",
    "        upper_bound = upper_bounds[feature]\n",
    "        \n",
    "        # Identify outliers\n",
    "        outliers = df[(df[feature] < lower_bound) | (df[feature] > upper_bound)]\n",
    "        outliers_dict[feature] = outliers\n",
    "        \n",
    "    return outliers_dict\n"
   ]
  },
  {
   "cell_type": "code",
   "execution_count": null,
   "metadata": {},
   "outputs": [],
   "source": [
    "import seaborn as sns\n",
    "for col in generation_num.columns:\n",
    "    sns.boxplot(data=generation_num[col])\n",
    "    plt.show()"
   ]
  },
  {
   "cell_type": "code",
   "execution_count": null,
   "metadata": {},
   "outputs": [],
   "source": [
    "visualZscore(z_scores=weather_zscores, outliers=weather_outliers)"
   ]
  },
  {
   "cell_type": "code",
   "execution_count": null,
   "metadata": {},
   "outputs": [],
   "source": [
    "visualZscore(z_scores=generation_zscore, outliers=generation_outliers)"
   ]
  }
 ],
 "metadata": {
  "kernelspec": {
   "display_name": "tdt4173",
   "language": "python",
   "name": "python3"
  },
  "language_info": {
   "codemirror_mode": {
    "name": "ipython",
    "version": 3
   },
   "file_extension": ".py",
   "mimetype": "text/x-python",
   "name": "python",
   "nbconvert_exporter": "python",
   "pygments_lexer": "ipython3",
   "version": "3.8.18"
  }
 },
 "nbformat": 4,
 "nbformat_minor": 2
}
