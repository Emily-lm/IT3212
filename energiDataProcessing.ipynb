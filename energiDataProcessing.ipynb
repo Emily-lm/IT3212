{
 "cells": [
  {
   "cell_type": "code",
   "execution_count": null,
   "metadata": {},
   "outputs": [],
   "source": [
    "import pandas as pd\n",
    "import matplotlib.pyplot as plt\n",
    "from sklearn.model_selection import train_test_split\n",
    "import missingno as msno \n",
    "\n",
    "\n",
    "pd.set_option('display.max_rows', None)\n",
    "pd.set_option('display.max_columns', None)\n",
    "data = pd.read_csv(\"spanish-cities-energy-consumption/energy_dataset.csv\")\n",
    "data.head()"
   ]
  },
  {
   "cell_type": "code",
   "execution_count": null,
   "metadata": {},
   "outputs": [],
   "source": [
    "print(\"Missing values in the dataset:\", pd.isnull(data).sum().sum())\n",
    "\n",
    "print(\"Outliers in the data set:\")\n",
    "\n",
    "for col in data.columns.values:\n",
    "    if data[col].dtype == \"object\":\n",
    "        print(\"Unique values in column\", col, \":\", data[col].unique())\n",
    "    \n",
    "    if (data[col].dtype == \"float64\" or data[col].dtype == \"int64\"):\n",
    "        print(\"Boxplot for column\", col)\n",
    "        pd.DataFrame.boxplot(data[col])\n",
    "        plt.show()\n",
    "        \n"
   ]
  },
  {
   "cell_type": "code",
   "execution_count": null,
   "metadata": {},
   "outputs": [],
   "source": [
    "\n",
    "msno.matrix(data)\n",
    "plt.show()\n",
    "\n",
    "data.drop(columns=[\"generation hydro pumped storage aggregated\", \"forecast wind offshore eday ahead\"], inplace=True)\n",
    "\n",
    "\n",
    "\n",
    "\n"
   ]
  },
  {
   "cell_type": "markdown",
   "metadata": {},
   "source": [
    "We have chosen to delete the two columns \"generation hydro pumped storage aggregated\" and \"forecast wind offshore eday ahead\" as they both only had missing values."
   ]
  },
  {
   "cell_type": "code",
   "execution_count": null,
   "metadata": {},
   "outputs": [],
   "source": [
    "print(\"Number of missing values now is:\", pd.isnull(data).sum().sum())"
   ]
  },
  {
   "cell_type": "markdown",
   "metadata": {},
   "source": [
    "Now we're going to perform a mean/median impution to remove the rest of the missing values, because they're numerical.\n",
    "\n",
    "For columns where missing values might not depend on time or where the values are relatively independent between time intervals, mean imputation is appropriate"
   ]
  },
  {
   "cell_type": "code",
   "execution_count": null,
   "metadata": {},
   "outputs": [],
   "source": [
    "\n",
    "\n",
    "\n",
    "columns_to_forward_fill = ['time']  \n",
    "\n",
    "data[columns_to_forward_fill] = data[columns_to_forward_fill].fillna(method='ffill')\n",
    "\n",
    "columns_to_median_impute = [\n",
    "    'generation fossil gas', \n",
    "    'generation fossil hard coal', \n",
    "    'generation fossil oil', \n",
    "    'generation fossil oil shale', \n",
    "    'generation fossil peat', \n",
    "    'generation geothermal', \n",
    "    'generation hydro pumped storage consumption', \n",
    "    'generation hydro run-of-river and poundage', \n",
    "    'generation hydro water reservoir', \n",
    "    'generation marine', \n",
    "    'generation nuclear', \n",
    "    'generation other', \n",
    "    'generation other renewable', \n",
    "    'generation solar', \n",
    "    'generation waste', \n",
    "    'generation wind onshore',\n",
    "    'forecast solar day ahead', \n",
    "    'forecast wind onshore day ahead', \n",
    "    \"generation wind offshore\",\n",
    "    'generation biomass',\n",
    "    'generation fossil brown coal/lignite',\n",
    "    'generation fossil coal-derived gas',\n",
    "    'total load actual',\n",
    "    'price actual'\n",
    "]\n",
    "\n",
    "data[columns_to_median_impute] = data[columns_to_median_impute].fillna(data.median(numeric_only=True))\n",
    "\n",
    "print(data.isna().sum())\n",
    "\n",
    "print(\"Number of missing values now is:\", pd.isnull(data).sum().sum())\n",
    "\n",
    "print(\"Nullity matrix after handling missing values:\")\n",
    "msno.matrix(data)\n",
    "plt.show()"
   ]
  }
 ],
 "metadata": {
  "kernelspec": {
   "display_name": "Python 3",
   "language": "python",
   "name": "python3"
  },
  "language_info": {
   "codemirror_mode": {
    "name": "ipython",
    "version": 3
   },
   "file_extension": ".py",
   "mimetype": "text/x-python",
   "name": "python",
   "nbconvert_exporter": "python",
   "pygments_lexer": "ipython3",
   "version": "3.12.4"
  }
 },
 "nbformat": 4,
 "nbformat_minor": 2
}
