{
 "cells": [
  {
   "cell_type": "code",
   "execution_count": null,
   "metadata": {},
   "outputs": [],
   "source": [
    "import numpy as np\n",
    "import pandas as pd\n",
    "import matplotlib.pyplot as plt\n",
    "from sklearn.model_selection import train_test_split\n",
    "from sklearn.preprocessing import PolynomialFeatures\n",
    "from sklearn.neural_network import MLPRegressor\n",
    "from sklearn.linear_model import LinearRegression\n",
    "from sklearn.metrics import mean_squared_error\n",
    "import catboost as cb\n",
    "import lightgbm as lgb\n",
    "import xgboost as xgb\n",
    "from sklearn.ensemble import RandomForestRegressor\n",
    "from sklearn.tree import DecisionTreeRegressor\n",
    "\n",
    "X_train = pd.read_csv(\"train/X_train.csv\")\n",
    "y_train = pd.read_csv(\"train/y_train.csv\")\n",
    "\n",
    "X_val = pd.read_csv(\"validation/X_val.csv\")\n",
    "y_val = pd.read_csv(\"validation/y_val.csv\")\n",
    "\n",
    "X_test = pd.read_csv(\"test/X_test.csv\")\n",
    "y_test = pd.read_csv(\"test/y_test.csv\")"
   ]
  },
  {
   "cell_type": "code",
   "execution_count": null,
   "metadata": {},
   "outputs": [],
   "source": [
    "# Plot data\n",
    "X_train\n"
   ]
  },
  {
   "cell_type": "markdown",
   "metadata": {},
   "source": [
    "### Regression"
   ]
  },
  {
   "cell_type": "code",
   "execution_count": null,
   "metadata": {},
   "outputs": [],
   "source": [
    "degrees = [1, 2, 3, 4]\n",
    "validation_errors = []\n",
    "best_degree=1\n",
    "\n",
    "\"\"\"for degree in degrees:\n",
    "    # Create polynomial features\n",
    "    poly = PolynomialFeatures(degree=degree)\n",
    "    X_train_poly = poly.fit_transform(X_train)\n",
    "    X_val_poly = poly.transform(X_val)\n",
    "    \n",
    "    # Train a linear regression model on the polynomial features\n",
    "    model = LinearRegression()\n",
    "    model.fit(X_train_poly, y_train)\n",
    "    \n",
    "    # Predict on the validation set and calculate error\n",
    "    y_val_pred = model.predict(X_val_poly)\n",
    "    val_mse = mean_squared_error(y_val, y_val_pred)\n",
    "    validation_errors.append(val_mse)\n",
    "    \n",
    "    print(f\"Degree: {degree}, Validation MSE: {val_mse}\")\n",
    "\n",
    "# Select the best polynomial degree based on the lowest validation error\n",
    "best_degree = degrees[np.argmin(validation_errors)]\n",
    "print(f\"Best Polynomial Degree: {best_degree}\")\"\"\"\n",
    "\n",
    "# Combine training and validation sets\n",
    "X_train_val = pd.concat([X_train, X_val])\n",
    "y_train_val = pd.concat([y_train, y_val])\n",
    "\n",
    "# Create polynomial features with the best degree\n",
    "poly = PolynomialFeatures(degree=best_degree)\n",
    "X_train_val_poly = poly.fit_transform(X_train_val)\n",
    "X_test_poly = poly.transform(X_test)\n",
    "\n",
    "# Train the model on the combined training and validation set\n",
    "final_model = LinearRegression()\n",
    "final_model.fit(X_train_val_poly, y_train_val)\n",
    "\n",
    "# Predict on the test set\n",
    "y_test_pred = final_model.predict(X_test_poly)\n",
    "\n",
    "# Calculate the Mean Squared Error\n",
    "test_mse = mean_squared_error(y_test, y_test_pred)\n",
    "print(f\"Test Mean Squared Error: {test_mse}\")\n",
    "\n",
    "# Plot actual vs predicted values for the test set\n",
    "plt.plot(range(len(y_test)), y_test, label=\"Actual Values\")\n",
    "plt.plot(range(len(y_test_pred)), y_test_pred, label=\"Predicted Values\")\n",
    "plt.legend()\n",
    "plt.xlabel(\"Time Steps (Test Data)\")\n",
    "plt.ylabel(\"Value\")\n",
    "plt.show()\n"
   ]
  },
  {
   "cell_type": "markdown",
   "metadata": {},
   "source": [
    "### Neural Network"
   ]
  },
  {
   "cell_type": "code",
   "execution_count": null,
   "metadata": {},
   "outputs": [],
   "source": [
    "#neural network\n",
    "model = MLPRegressor(hidden_layer_sizes=(10,), max_iter=2000, random_state=0)\n",
    "\n",
    "# Train the model on the training data\n",
    "model.fit(X_train, y_train)\n",
    "# Predict on the test set\n",
    "y_pred = model.predict(X_test)\n",
    "\n",
    "# Calculate the Mean Squared Error\n",
    "mse = mean_squared_error(y_test, y_pred)\n",
    "print(f\"Mean Squared Error: {mse}\")\n",
    "\n",
    "# Plot actual vs predicted values for the test set\n",
    "plt.plot(range(len(y_test)), y_test, label=\"Actual Values\")\n",
    "plt.plot(range(len(y_pred)), y_pred, label=\"Predicted Values\")\n",
    "plt.legend()\n",
    "plt.xlabel(\"Time Steps (Test Data)\")\n",
    "plt.ylabel(\"Value\")\n",
    "plt.show()"
   ]
  },
  {
   "cell_type": "markdown",
   "metadata": {},
   "source": [
    "### Decision Tree"
   ]
  },
  {
   "cell_type": "code",
   "execution_count": null,
   "metadata": {},
   "outputs": [],
   "source": [
    "\"\"\"\n",
    "catboost_model = cb.CatBoostRegressor(verbose=0, random_state=42)\n",
    "catboost_model.fit(X_train, y_train, eval_set=(X_val, y_val))\n",
    "\n",
    "lightgbm_model = lgb.LGBMRegressor(verbose=-1, random_state=42)\n",
    "lightgbm_model.fit(X_train, y_train, eval_set=(X_val, y_val))\n",
    "\n",
    "xgboost_model = xgb.XGBRegressor(random_state=42)\n",
    "xgboost_model.fit(X_train, y_train, eval_set=[(X_val, y_val)], verbose=False)\n",
    "\n",
    "y_pred_catboost = catboost_model.predict(X_test)\n",
    "mse_catboost = mean_squared_error(y_test, y_pred_catboost)\n",
    "print(f\"Mean Squared Error Catboost: {mse_catboost}\")\n",
    "\n",
    "y_pred_lightgbm = lightgbm_model.predict(X_test)\n",
    "mse_lightgbm = mean_squared_error(y_test, y_pred_lightgbm)\n",
    "print(f\"Mean Squared Error LightGBM: {mse_lightgbm}\")\n",
    "\n",
    "y_pred_xgboost = xgboost_model.predict(X_test)\n",
    "mse_xgboost = mean_squared_error(y_test, y_pred_xgboost)\n",
    "print(f\"Mean Squared Error XGBoost: {mse_xgboost}\")\n",
    "\n",
    "y_pres_ensamble = (y_pred_catboost + y_pred_lightgbm + y_pred_xgboost) / 3\n",
    "mse_ensamble = mean_squared_error(y_test, y_pres_ensamble)\n",
    "print(f\"Mean Squared Error Ensamble: {mse_ensamble}\")\n",
    "\n",
    "plt.plot(range(len(y_test)), y_test, label=\"Actual Values\")\n",
    "plt.plot(range(len(y_pred)), y_pred, label=\"Predicted Values\")\n",
    "plt.legend()\n",
    "plt.title(\"Gradient Boosting decision tree (Ensamble of 3 models)\")\n",
    "plt.xlabel(\"Time Steps (Test Data)\")\n",
    "plt.ylabel(\"Value\")\n",
    "plt.show()\n",
    "\"\"\"\n",
    "\n",
    "# Decision tree regressor\n",
    "model_dt = DecisionTreeRegressor(random_state=42)\n",
    "model_dt.fit(X_train, y_train)\n",
    "y_pred_dt = model_dt.predict(X_test)\n",
    "mse_dt = mean_squared_error(y_test, y_pred_dt)\n",
    "print(f\"Mean Squared Error Decision Tree: {mse_dt}\")\n",
    "\n",
    "plt.plot(range(len(y_test)), y_test, label=\"Actual Values\")\n",
    "plt.plot(range(len(y_pred_dt)), y_pred_dt, label=\"Predicted Values\")\n",
    "plt.legend()\n",
    "plt.title(\"Decision Tree Regressor\")\n",
    "plt.xlabel(\"Time Steps (Test Data)\")\n",
    "plt.ylabel(\"Value\")\n",
    "plt.show()"
   ]
  },
  {
   "cell_type": "markdown",
   "metadata": {},
   "source": [
    "### Random forrest"
   ]
  },
  {
   "cell_type": "code",
   "execution_count": null,
   "metadata": {},
   "outputs": [],
   "source": [
    "model_rf = RandomForestRegressor(random_state=42)\n",
    "model_rf.fit(X_train, y_train, )\n",
    "y_pred_rf = model_rf.predict(X_test)\n",
    "mse_rf = mean_squared_error(y_test, y_pred_rf)\n",
    "print(f\"Mean Squared Error Random Forest: {mse_rf}\")\n",
    "\n",
    "plt.plot(range(len(y_test)), y_test, label=\"Actual Values\")\n",
    "plt.plot(range(len(y_pred_rf)), y_pred_rf, label=\"Predicted Values\")\n",
    "plt.legend()\n",
    "plt.title(\"Random Forest\")\n",
    "plt.xlabel(\"Time Steps (Test Data)\")\n",
    "plt.ylabel(\"Value\")\n",
    "plt.show()"
   ]
  },
  {
   "cell_type": "markdown",
   "metadata": {},
   "source": [
    "### SVM with kernel"
   ]
  },
  {
   "cell_type": "code",
   "execution_count": null,
   "metadata": {},
   "outputs": [],
   "source": [
    "# SVM regressor (Support Vector Machine)\n",
    "from sklearn.svm import SVR\n",
    "model_svm = SVR()\n",
    "model_svm.fit(X_train, y_train)\n",
    "y_pred_svm = model_svm.predict(X_test)\n",
    "mse_svm = mean_squared_error(y_test, y_pred_svm)\n",
    "print(f\"Mean Squared Error SVM: {mse_svm}\")\n",
    "\n",
    "plt.plot(range(len(y_test)), y_test, label=\"Actual Values\")\n",
    "plt.plot(range(len(y_pred_svm)), y_pred_svm, label=\"Predicted Values\")\n",
    "plt.legend()\n",
    "plt.title(\"Support Vector Machine\")\n",
    "plt.xlabel(\"Time Steps (Test Data)\")\n",
    "plt.ylabel(\"Value\")\n",
    "plt.show()"
   ]
  }
 ],
 "metadata": {
  "kernelspec": {
   "display_name": ".venv",
   "language": "python",
   "name": "python3"
  },
  "language_info": {
   "codemirror_mode": {
    "name": "ipython",
    "version": 3
   },
   "file_extension": ".py",
   "mimetype": "text/x-python",
   "name": "python",
   "nbconvert_exporter": "python",
   "pygments_lexer": "ipython3",
   "version": "3.11.10"
  }
 },
 "nbformat": 4,
 "nbformat_minor": 2
}
